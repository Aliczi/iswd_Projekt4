{
 "cells": [
  {
   "cell_type": "code",
   "execution_count": 53,
   "metadata": {},
   "outputs": [],
   "source": [
    "import pandas as pd\n",
    "import numpy as np"
   ]
  },
  {
   "cell_type": "code",
   "execution_count": 54,
   "metadata": {},
   "outputs": [],
   "source": [
    "def calc_marginal_concordances(el1, el2, info):\n",
    "    cs = []\n",
    "    for i, (a, b) in enumerate(zip(el1, el2)):\n",
    "        t, q, p, _ = info[i].values()\n",
    "        if t == 'g':\n",
    "            if b < a + q:\n",
    "                cs.append(1)\n",
    "            elif b < a + p:\n",
    "                cs.append((a+p-b)/(p-q))\n",
    "            else:\n",
    "                cs.append(0)\n",
    "        else: # criterion type cost\n",
    "            if b < a - p:\n",
    "                cs.append(0)\n",
    "            elif b < a - q:\n",
    "                cs.append((b-a+p)/(p-q))\n",
    "            else:\n",
    "                cs.append(1)\n",
    "    return cs\n",
    "\n",
    "def calc_marginal_discordances(el1, el2, info):\n",
    "    ds = []\n",
    "    for i, (a, b) in enumerate(zip(el1, el2)):\n",
    "        t, _, p, v = info[i].values()\n",
    "        if t == 'g':\n",
    "            if b < a + p:\n",
    "                ds.append(0)\n",
    "            elif b < a + v:\n",
    "                ds.append((b-a-p)/(v-p))\n",
    "            else:\n",
    "                ds.append(1)\n",
    "        else: # criterion type cost\n",
    "            if b < a - v:\n",
    "                ds.append(1)\n",
    "            elif b < a - p:\n",
    "                ds.append((a-p-b)/(v-p))\n",
    "            else:\n",
    "                ds.append(0)\n",
    "    return ds\n",
    "\n",
    "def comprehensive_concordance(marginal_conc, weights):\n",
    "    return np.dot(np.array(weights), np.array(marginal_conc)) / np.sum(weights)\n",
    "\n",
    "def outranking_credibilities_sigma(conc_C: float, dis_D):\n",
    "    return conc_C * np.prod([(1-dis)/(1-conc_C) for dis in dis_D if dis > conc_C])\n",
    "\n",
    "def create_credibility_mat(df, weights, info):\n",
    "    arr = np.array(df)\n",
    "    credibility_mat = np.zeros((arr.shape[0],arr.shape[0]))\n",
    "    for i in range(arr.shape[0]):\n",
    "        for j in range(arr.shape[0]):\n",
    "            c = calc_marginal_concordances(arr[i], arr[j], info)\n",
    "            D = calc_marginal_discordances(arr[i], arr[j], info)\n",
    "            C = comprehensive_concordance(c, weights)\n",
    "            credibility_mat[i,j] = outranking_credibilities_sigma(C, D)\n",
    "\n",
    "    return credibility_mat"
   ]
  },
  {
   "cell_type": "code",
   "execution_count": 55,
   "metadata": {},
   "outputs": [
    {
     "data": {
      "text/plain": [
       "array([[1. , 0. , 0. ],\n",
       "       [1. , 1. , 0.7],\n",
       "       [1. , 0.3, 1. ]])"
      ]
     },
     "execution_count": 55,
     "metadata": {},
     "output_type": "execute_result"
    }
   ],
   "source": [
    "df = pd.read_csv(\"przyklad_wyk.csv\")\n",
    "weights = [2, 3]\n",
    "info = [\n",
    "    {'type': 'g', 'iff': 10, 'pref':50, 'veto':100},\n",
    "    {'type': 'c', 'iff': 0, 'pref':10, 'veto':20} \n",
    "]\n",
    "credibility_mat = create_credibility_mat(df, weights, info)\n",
    "credibility_mat\n"
   ]
  },
  {
   "cell_type": "code",
   "execution_count": 56,
   "metadata": {},
   "outputs": [
    {
     "data": {
      "text/plain": [
       "array([[1.        , 0.6       , 0.3       , 0.7       , 0.55      ],\n",
       "       [0.        , 1.        , 0.2037037 , 0.        , 0.        ],\n",
       "       [0.58333333, 0.6       , 1.        , 0.85      , 0.        ],\n",
       "       [0.3       , 0.        , 0.6       , 1.        , 0.58333333],\n",
       "       [0.6       , 0.        , 0.6       , 0.7       , 1.        ]])"
      ]
     },
     "execution_count": 56,
     "metadata": {},
     "output_type": "execute_result"
    }
   ],
   "source": [
    "df = pd.read_csv(\"przyklad_lab.csv\")\n",
    "weights = [3, 3, 4]\n",
    "info = [\n",
    "    {'type': 'g', 'iff': 4, 'pref':12, 'veto':28},\n",
    "    {'type': 'g', 'iff': 1, 'pref':2, 'veto':8},\n",
    "    {'type': 'c', 'iff': 100, 'pref':200, 'veto':600} \n",
    "]\n",
    "credibility_mat = create_credibility_mat(df, weights, info)\n",
    "credibility_mat"
   ]
  },
  {
   "cell_type": "code",
   "execution_count": 57,
   "metadata": {},
   "outputs": [],
   "source": [
    "def calc_ranks(elements):\n",
    "    to_do_list = list(elements.keys())\n",
    "\n",
    "    ret = {e: 1 for e in elements.keys()}\n",
    "\n",
    "    while to_do_list:\n",
    "        element = to_do_list.pop(0)\n",
    "        value = ret[element] + 1\n",
    "        for above in elements[element]:\n",
    "            if above == element:\n",
    "                continue\n",
    "            if element in elements[above]:\n",
    "                continue\n",
    "            if ret[above] < value:\n",
    "                ret[above] = value\n",
    "                to_do_list.append(above)\n",
    "    \n",
    "    return ret\n",
    "\n",
    "def calc_median(ranks: dict, asc_rank: list, des_rank: list):\n",
    "    size = max(ranks.values())\n",
    "    normal_rank = [[] for _ in range(size)]\n",
    "\n",
    "    for item, rank in ranks.items():\n",
    "        normal_rank[rank-1].append(item)\n",
    "\n",
    "    # print(\"ranks: \",normal_rank)\n",
    "    \n",
    "    median_rank = []\n",
    "\n",
    "    for position in normal_rank:\n",
    "        if len(position) == 1:\n",
    "            median_rank.append(position)\n",
    "        else:\n",
    "            score_asc = []\n",
    "            score_des = []\n",
    "            for e in position:\n",
    "                score_asc.append(len(asc_rank) - get_rank(e,asc_rank))\n",
    "                score_des.append(len(des_rank) - get_rank(e,des_rank))\n",
    "            \n",
    "            score =  np.array(score_asc) - np.array(score_des)\n",
    "            # print(position)\n",
    "            elements_list = np.array(position)\n",
    "            \n",
    "            while np.max(score) != -9999:\n",
    "                mask = score == np.max(score)\n",
    "                \n",
    "                median_rank.append(list(elements_list[mask]))\n",
    "                \n",
    "                score[mask] = -9999\n",
    "    return median_rank, normal_rank\n",
    "            # print(score_asc)\n",
    "            # print(score_des)\n",
    "            # print(asc_rank)\n",
    "            # print(des_rank)\n",
    "\n",
    "def get_rank(element, rank):\n",
    "    for i, item in enumerate(rank):\n",
    "        if isinstance(item, list):\n",
    "            if element in item:\n",
    "                return i\n",
    "        elif element == item:\n",
    "            return i\n",
    "\n",
    "def is_above(a, b, rank1, rank2):\n",
    "    a_rank1 = get_rank(a,rank1)\n",
    "    b_rank1 = get_rank(b,rank1)\n",
    "\n",
    "    a_rank2 = get_rank(a,rank2)\n",
    "    b_rank2 = get_rank(b,rank2)\n",
    "\n",
    "    if a_rank1 >= b_rank1 and a_rank2 >= b_rank2:\n",
    "        return True\n",
    "    \n",
    "\n",
    "def make_outranking_list(asc_rank, des_rank, elements: list):\n",
    "    result = {}\n",
    "\n",
    "    # Iteracja po elementach w rankings\n",
    "    for element in elements:\n",
    "        result[element] = []\n",
    "        for item in elements:\n",
    "            if is_above(element,item, asc_rank, des_rank):\n",
    "                result[element].append(item)\n",
    "\n",
    "    # Wyświetlanie wyników\n",
    "    # for element, elements_above in result.items():\n",
    "    #     print(f\"Element {element} jest nad: {elements_above}\")\n",
    "\n",
    "    print(result)\n",
    "    ranks = calc_ranks(result)\n",
    "    # print(ranks)\n",
    "    median_rank, normal_rank = calc_median(ranks,asc_rank,des_rank)\n",
    "    print(\"ranks: \",normal_rank)\n",
    "    print(\"ranking medianowy: \", median_rank)\n",
    "    return median_rank, normal_rank\n",
    "\n",
    "\n",
    "    print(\"pair = {\", end=\"\")\n",
    "    for element, elements_above in result.items():\n",
    "        for above in elements_above:\n",
    "                # print(\"{\"+f\"{elements.index(element)+1},{elements.index(above)+1}\"+\"}, \",end=\"\")\n",
    "                print(\"{\"+f\"\\\"{element}\\\",\\\"{above}\\\"\"+\"}, \",end=\"\")\n",
    "\n",
    "    print(\"}\")\n",
    "\n",
    "def syg(value, alfa = -0.15, beta = 0.3):\n",
    "    return alfa*value + beta\n",
    "\n",
    "def destilate(S, lamb = None, names = None, is_descending = True, alfa = -0.15, beta = 0.3):\n",
    "    if S.shape[0] == 0:\n",
    "        return []\n",
    "\n",
    "    S_ = np.copy(S)\n",
    "    np.fill_diagonal(S_, 0)\n",
    "\n",
    "    if lamb is None:\n",
    "        lamb = np.max(S_)\n",
    "    \n",
    "    if lamb == 0:\n",
    "        if len(names) == 1:\n",
    "            return list(names)\n",
    "        return [list(names)]\n",
    "    \n",
    "    if names is None:\n",
    "        names = np.array([i for i in range(S.shape[0])])\n",
    "    S_[S_ >= lamb - syg(lamb,alfa,beta)] = 0\n",
    "    lamb_min = max(np.max(S_), 0)\n",
    "    \n",
    "    survivors = np.copy(S)\n",
    "    np.fill_diagonal(survivors, 0)\n",
    "    survivors[survivors <= lamb_min] = 0\n",
    "\n",
    "\n",
    "    for a in range(survivors.shape[0]):\n",
    "        for b in range(survivors.shape[1]):\n",
    "            # print(S[a][b], S[b][a], syg(S[a][b]))\n",
    "            if S[a][b] <= S[b][a] + syg(S[a][b]):\n",
    "                survivors[a][b] = 0\n",
    "    s = np.sum(survivors>0,axis=1)\n",
    "    w = np.sum(survivors>0,axis=0)\n",
    "    q = s - w\n",
    "    if is_descending:\n",
    "        win_score = np.max(q)\n",
    "    else:\n",
    "        win_score = np.min(q)\n",
    "    mask = q == win_score\n",
    "    if np.sum(mask) > 1: # internal destilation\n",
    "        choice = destilate(S[mask][:,mask],lamb_min,names[mask],is_descending, alfa, beta)\n",
    "    else:\n",
    "        choice = [names[mask][0]]\n",
    "    ret = destilate(S[~mask][:,~mask], None, names[~mask],is_descending, alfa, beta)\n",
    "\n",
    "    return  ret + choice\n",
    "\n",
    "def descending_distillation(S,names):\n",
    "    return destilate(S,None, np.array(names), is_descending= True)\n",
    "\n",
    "def ascending_distillation(S,names):\n",
    "    return destilate(S,None, np.array(names), is_descending= False)[::-1]\n",
    "\n",
    "def make_printable_pairs(ranking, elements):\n",
    "    # Iteracja po elementach w rankings\n",
    "    result = {}\n",
    "    for element in elements:\n",
    "        result[element] = []\n",
    "        for item in elements:\n",
    "            if is_above(element,item, ranking , ranking):\n",
    "                result[element].append(item)\n",
    "\n",
    "    print(result)\n",
    "\n",
    "    print(\"pair = {\", end=\"\")\n",
    "    for element, elements_above in result.items():\n",
    "        print(\"{\"+f\"\\\"{element}\\\",\\\"{element}\\\"\"+\"}, \",end=\"\")\n",
    "        for above in elements_above:\n",
    "                # print(\"{\"+f\"{elements.index(element)+1},{elements.index(above)+1}\"+\"}, \",end=\"\")\n",
    "                print(\"{\"+f\"\\\"{element}\\\",\\\"{above}\\\"\"+\"}, \",end=\"\")\n",
    "\n",
    "    print(\"}\")"
   ]
  },
  {
   "cell_type": "code",
   "execution_count": 58,
   "metadata": {},
   "outputs": [
    {
     "name": "stdout",
     "output_type": "stream",
     "text": [
      "['A', 'B', 'I', 'G', 'F']\n",
      "[['B', 'A', 'F'], 'I', 'G']\n",
      "{'I': ['I', 'B', 'A'], 'B': ['B', 'A'], 'G': ['I', 'B', 'G', 'A'], 'A': ['A'], 'F': ['B', 'A', 'F']}\n",
      "ranks:  [['G', 'F'], ['I'], ['B'], ['A']]\n",
      "ranking medianowy:  [['G'], ['F'], ['I'], ['B'], ['A']]\n"
     ]
    }
   ],
   "source": [
    "\n",
    "asc_rank = ascending_distillation(credibility_mat,[\"I\", \"B\", \"G\", \"A\", \"F\"])\n",
    "des_rank = descending_distillation(credibility_mat,[\"I\", \"B\", \"G\", \"A\", \"F\"])\n",
    "\n",
    "print(asc_rank)\n",
    "print(des_rank)\n",
    "\n",
    "median_rank, normal_rank = make_outranking_list(asc_rank,des_rank, [\"I\", \"B\", \"G\", \"A\", \"F\"])"
   ]
  },
  {
   "cell_type": "code",
   "execution_count": 59,
   "metadata": {},
   "outputs": [
    {
     "name": "stdout",
     "output_type": "stream",
     "text": [
      "['Huawei Nova 9', ['Realme GT Master Edition ', 'Xiaomi 11 Lite Ne'], 'Samsung Galaxy S21', 'Vivo V21', 'Sony Xperia 10 III', 'Xiaomi Redmi 10', ['Oppo A16', 'Motorola G50'], 'Xiaomi POCO F3', 'Sony Xperia 1 III', ['DOOGEE S59', 'Xiaomi Poco X3 Pro', 'IPhone 11 Pro']]\n",
      "[['IPhone 11 Pro', 'Sony Xperia 1 III'], 'Samsung Galaxy S21', 'DOOGEE S59', 'Oppo A16', 'Huawei Nova 9', ['Realme GT Master Edition ', 'Xiaomi 11 Lite Ne', 'Vivo V21'], 'Sony Xperia 10 III', ['Motorola G50', 'Xiaomi Redmi 10'], 'Xiaomi POCO F3', 'Xiaomi Poco X3 Pro']\n"
     ]
    }
   ],
   "source": [
    "df = pd.read_csv(\"ranking_telefony.csv\")\n",
    "names = df.loc[:,'nazwa']\n",
    "df = df.drop(['nazwa'], axis=1)\n",
    "\n",
    "weights = [3, 1, 2, 2, 3]\n",
    "info = [\n",
    "    {'type': 'c', 'iff': 300, 'pref':800, 'veto':1500},\n",
    "    {'type': 'g', 'iff': 0.2, 'pref':0.5, 'veto':1},\n",
    "    {'type': 'g', 'iff': 250, 'pref':500, 'veto':1000},\n",
    "    {'type': 'g', 'iff': 32, 'pref':128, 'veto':150},\n",
    "    {'type': 'g', 'iff': 2, 'pref':4, 'veto':6} \n",
    "]\n",
    "\n",
    "credibility_mat = create_credibility_mat(df, weights, info)\n",
    "# print(credibility_mat)\n",
    "\n",
    "asc_rank = ascending_distillation(credibility_mat,names)\n",
    "des_rank = descending_distillation(credibility_mat,names)\n",
    "# ranks = make_outranking_list(asc_rank,des_rank, names)\n",
    "\n",
    "print(asc_rank)\n",
    "print(des_rank)\n",
    "# print(list(names))"
   ]
  },
  {
   "cell_type": "code",
   "execution_count": 60,
   "metadata": {},
   "outputs": [
    {
     "name": "stdout",
     "output_type": "stream",
     "text": [
      "{'Oppo A16': ['Oppo A16', 'Samsung Galaxy S21'], 'Motorola G50': ['Oppo A16', 'Motorola G50', 'Xiaomi Redmi 10', 'Realme GT Master Edition ', 'Xiaomi 11 Lite Ne', 'Vivo V21', 'Sony Xperia 10 III', 'Huawei Nova 9', 'Samsung Galaxy S21'], 'DOOGEE S59': ['DOOGEE S59', 'Samsung Galaxy S21', 'IPhone 11 Pro', 'Sony Xperia 1 III'], 'Xiaomi Redmi 10': ['Xiaomi Redmi 10', 'Realme GT Master Edition ', 'Xiaomi 11 Lite Ne', 'Vivo V21', 'Sony Xperia 10 III', 'Huawei Nova 9', 'Samsung Galaxy S21'], 'Xiaomi Poco X3 Pro': ['Oppo A16', 'Motorola G50', 'DOOGEE S59', 'Xiaomi Redmi 10', 'Xiaomi Poco X3 Pro', 'Realme GT Master Edition ', 'Xiaomi POCO F3', 'Xiaomi 11 Lite Ne', 'Vivo V21', 'Sony Xperia 10 III', 'Huawei Nova 9', 'Samsung Galaxy S21', 'IPhone 11 Pro', 'Sony Xperia 1 III'], 'Realme GT Master Edition ': ['Realme GT Master Edition ', 'Xiaomi 11 Lite Ne', 'Huawei Nova 9'], 'Xiaomi POCO F3': ['Oppo A16', 'Motorola G50', 'Xiaomi Redmi 10', 'Realme GT Master Edition ', 'Xiaomi POCO F3', 'Xiaomi 11 Lite Ne', 'Vivo V21', 'Sony Xperia 10 III', 'Huawei Nova 9', 'Samsung Galaxy S21'], 'Xiaomi 11 Lite Ne': ['Realme GT Master Edition ', 'Xiaomi 11 Lite Ne', 'Huawei Nova 9'], 'Vivo V21': ['Realme GT Master Edition ', 'Xiaomi 11 Lite Ne', 'Vivo V21', 'Huawei Nova 9', 'Samsung Galaxy S21'], 'Sony Xperia 10 III': ['Realme GT Master Edition ', 'Xiaomi 11 Lite Ne', 'Vivo V21', 'Sony Xperia 10 III', 'Huawei Nova 9', 'Samsung Galaxy S21'], 'Huawei Nova 9': ['Huawei Nova 9'], 'Samsung Galaxy S21': ['Samsung Galaxy S21'], 'IPhone 11 Pro': ['IPhone 11 Pro', 'Sony Xperia 1 III'], 'Sony Xperia 1 III': ['Sony Xperia 1 III']}\n",
      "ranks:  [['Xiaomi Poco X3 Pro'], ['DOOGEE S59', 'Xiaomi POCO F3'], ['Motorola G50', 'IPhone 11 Pro'], ['Oppo A16', 'Xiaomi Redmi 10', 'Sony Xperia 1 III'], ['Sony Xperia 10 III'], ['Vivo V21'], ['Realme GT Master Edition ', 'Xiaomi 11 Lite Ne', 'Samsung Galaxy S21'], ['Huawei Nova 9']]\n",
      "ranking medianowy:  [['Xiaomi Poco X3 Pro'], ['Xiaomi POCO F3'], ['DOOGEE S59'], ['Motorola G50'], ['IPhone 11 Pro'], ['Xiaomi Redmi 10'], ['Oppo A16'], ['Sony Xperia 1 III'], ['Sony Xperia 10 III'], ['Vivo V21'], ['Realme GT Master Edition ', 'Xiaomi 11 Lite Ne'], ['Samsung Galaxy S21'], ['Huawei Nova 9']]\n"
     ]
    }
   ],
   "source": [
    "median_rank, normal_rank = make_outranking_list(asc_rank,des_rank, names)\n"
   ]
  },
  {
   "cell_type": "code",
   "execution_count": 61,
   "metadata": {},
   "outputs": [
    {
     "name": "stdout",
     "output_type": "stream",
     "text": [
      "{'Oppo A16': ['Oppo A16', 'Motorola G50', 'Xiaomi Redmi 10', 'Realme GT Master Edition ', 'Xiaomi 11 Lite Ne', 'Vivo V21', 'Sony Xperia 10 III', 'Huawei Nova 9', 'Samsung Galaxy S21'], 'Motorola G50': ['Oppo A16', 'Motorola G50', 'Xiaomi Redmi 10', 'Realme GT Master Edition ', 'Xiaomi 11 Lite Ne', 'Vivo V21', 'Sony Xperia 10 III', 'Huawei Nova 9', 'Samsung Galaxy S21'], 'DOOGEE S59': ['Oppo A16', 'Motorola G50', 'DOOGEE S59', 'Xiaomi Redmi 10', 'Xiaomi Poco X3 Pro', 'Realme GT Master Edition ', 'Xiaomi POCO F3', 'Xiaomi 11 Lite Ne', 'Vivo V21', 'Sony Xperia 10 III', 'Huawei Nova 9', 'Samsung Galaxy S21', 'IPhone 11 Pro', 'Sony Xperia 1 III'], 'Xiaomi Redmi 10': ['Xiaomi Redmi 10', 'Realme GT Master Edition ', 'Xiaomi 11 Lite Ne', 'Vivo V21', 'Sony Xperia 10 III', 'Huawei Nova 9', 'Samsung Galaxy S21'], 'Xiaomi Poco X3 Pro': ['Oppo A16', 'Motorola G50', 'DOOGEE S59', 'Xiaomi Redmi 10', 'Xiaomi Poco X3 Pro', 'Realme GT Master Edition ', 'Xiaomi POCO F3', 'Xiaomi 11 Lite Ne', 'Vivo V21', 'Sony Xperia 10 III', 'Huawei Nova 9', 'Samsung Galaxy S21', 'IPhone 11 Pro', 'Sony Xperia 1 III'], 'Realme GT Master Edition ': ['Realme GT Master Edition ', 'Xiaomi 11 Lite Ne', 'Huawei Nova 9'], 'Xiaomi POCO F3': ['Oppo A16', 'Motorola G50', 'Xiaomi Redmi 10', 'Realme GT Master Edition ', 'Xiaomi POCO F3', 'Xiaomi 11 Lite Ne', 'Vivo V21', 'Sony Xperia 10 III', 'Huawei Nova 9', 'Samsung Galaxy S21'], 'Xiaomi 11 Lite Ne': ['Realme GT Master Edition ', 'Xiaomi 11 Lite Ne', 'Huawei Nova 9'], 'Vivo V21': ['Realme GT Master Edition ', 'Xiaomi 11 Lite Ne', 'Vivo V21', 'Huawei Nova 9', 'Samsung Galaxy S21'], 'Sony Xperia 10 III': ['Realme GT Master Edition ', 'Xiaomi 11 Lite Ne', 'Vivo V21', 'Sony Xperia 10 III', 'Huawei Nova 9', 'Samsung Galaxy S21'], 'Huawei Nova 9': ['Huawei Nova 9'], 'Samsung Galaxy S21': ['Realme GT Master Edition ', 'Xiaomi 11 Lite Ne', 'Huawei Nova 9', 'Samsung Galaxy S21'], 'IPhone 11 Pro': ['Oppo A16', 'Motorola G50', 'DOOGEE S59', 'Xiaomi Redmi 10', 'Xiaomi Poco X3 Pro', 'Realme GT Master Edition ', 'Xiaomi POCO F3', 'Xiaomi 11 Lite Ne', 'Vivo V21', 'Sony Xperia 10 III', 'Huawei Nova 9', 'Samsung Galaxy S21', 'IPhone 11 Pro', 'Sony Xperia 1 III'], 'Sony Xperia 1 III': ['Oppo A16', 'Motorola G50', 'Xiaomi Redmi 10', 'Realme GT Master Edition ', 'Xiaomi POCO F3', 'Xiaomi 11 Lite Ne', 'Vivo V21', 'Sony Xperia 10 III', 'Huawei Nova 9', 'Samsung Galaxy S21', 'Sony Xperia 1 III']}\n",
      "pair = {{\"Oppo A16\",\"Oppo A16\"}, {\"Oppo A16\",\"Oppo A16\"}, {\"Oppo A16\",\"Motorola G50\"}, {\"Oppo A16\",\"Xiaomi Redmi 10\"}, {\"Oppo A16\",\"Realme GT Master Edition \"}, {\"Oppo A16\",\"Xiaomi 11 Lite Ne\"}, {\"Oppo A16\",\"Vivo V21\"}, {\"Oppo A16\",\"Sony Xperia 10 III\"}, {\"Oppo A16\",\"Huawei Nova 9\"}, {\"Oppo A16\",\"Samsung Galaxy S21\"}, {\"Motorola G50\",\"Motorola G50\"}, {\"Motorola G50\",\"Oppo A16\"}, {\"Motorola G50\",\"Motorola G50\"}, {\"Motorola G50\",\"Xiaomi Redmi 10\"}, {\"Motorola G50\",\"Realme GT Master Edition \"}, {\"Motorola G50\",\"Xiaomi 11 Lite Ne\"}, {\"Motorola G50\",\"Vivo V21\"}, {\"Motorola G50\",\"Sony Xperia 10 III\"}, {\"Motorola G50\",\"Huawei Nova 9\"}, {\"Motorola G50\",\"Samsung Galaxy S21\"}, {\"DOOGEE S59\",\"DOOGEE S59\"}, {\"DOOGEE S59\",\"Oppo A16\"}, {\"DOOGEE S59\",\"Motorola G50\"}, {\"DOOGEE S59\",\"DOOGEE S59\"}, {\"DOOGEE S59\",\"Xiaomi Redmi 10\"}, {\"DOOGEE S59\",\"Xiaomi Poco X3 Pro\"}, {\"DOOGEE S59\",\"Realme GT Master Edition \"}, {\"DOOGEE S59\",\"Xiaomi POCO F3\"}, {\"DOOGEE S59\",\"Xiaomi 11 Lite Ne\"}, {\"DOOGEE S59\",\"Vivo V21\"}, {\"DOOGEE S59\",\"Sony Xperia 10 III\"}, {\"DOOGEE S59\",\"Huawei Nova 9\"}, {\"DOOGEE S59\",\"Samsung Galaxy S21\"}, {\"DOOGEE S59\",\"IPhone 11 Pro\"}, {\"DOOGEE S59\",\"Sony Xperia 1 III\"}, {\"Xiaomi Redmi 10\",\"Xiaomi Redmi 10\"}, {\"Xiaomi Redmi 10\",\"Xiaomi Redmi 10\"}, {\"Xiaomi Redmi 10\",\"Realme GT Master Edition \"}, {\"Xiaomi Redmi 10\",\"Xiaomi 11 Lite Ne\"}, {\"Xiaomi Redmi 10\",\"Vivo V21\"}, {\"Xiaomi Redmi 10\",\"Sony Xperia 10 III\"}, {\"Xiaomi Redmi 10\",\"Huawei Nova 9\"}, {\"Xiaomi Redmi 10\",\"Samsung Galaxy S21\"}, {\"Xiaomi Poco X3 Pro\",\"Xiaomi Poco X3 Pro\"}, {\"Xiaomi Poco X3 Pro\",\"Oppo A16\"}, {\"Xiaomi Poco X3 Pro\",\"Motorola G50\"}, {\"Xiaomi Poco X3 Pro\",\"DOOGEE S59\"}, {\"Xiaomi Poco X3 Pro\",\"Xiaomi Redmi 10\"}, {\"Xiaomi Poco X3 Pro\",\"Xiaomi Poco X3 Pro\"}, {\"Xiaomi Poco X3 Pro\",\"Realme GT Master Edition \"}, {\"Xiaomi Poco X3 Pro\",\"Xiaomi POCO F3\"}, {\"Xiaomi Poco X3 Pro\",\"Xiaomi 11 Lite Ne\"}, {\"Xiaomi Poco X3 Pro\",\"Vivo V21\"}, {\"Xiaomi Poco X3 Pro\",\"Sony Xperia 10 III\"}, {\"Xiaomi Poco X3 Pro\",\"Huawei Nova 9\"}, {\"Xiaomi Poco X3 Pro\",\"Samsung Galaxy S21\"}, {\"Xiaomi Poco X3 Pro\",\"IPhone 11 Pro\"}, {\"Xiaomi Poco X3 Pro\",\"Sony Xperia 1 III\"}, {\"Realme GT Master Edition \",\"Realme GT Master Edition \"}, {\"Realme GT Master Edition \",\"Realme GT Master Edition \"}, {\"Realme GT Master Edition \",\"Xiaomi 11 Lite Ne\"}, {\"Realme GT Master Edition \",\"Huawei Nova 9\"}, {\"Xiaomi POCO F3\",\"Xiaomi POCO F3\"}, {\"Xiaomi POCO F3\",\"Oppo A16\"}, {\"Xiaomi POCO F3\",\"Motorola G50\"}, {\"Xiaomi POCO F3\",\"Xiaomi Redmi 10\"}, {\"Xiaomi POCO F3\",\"Realme GT Master Edition \"}, {\"Xiaomi POCO F3\",\"Xiaomi POCO F3\"}, {\"Xiaomi POCO F3\",\"Xiaomi 11 Lite Ne\"}, {\"Xiaomi POCO F3\",\"Vivo V21\"}, {\"Xiaomi POCO F3\",\"Sony Xperia 10 III\"}, {\"Xiaomi POCO F3\",\"Huawei Nova 9\"}, {\"Xiaomi POCO F3\",\"Samsung Galaxy S21\"}, {\"Xiaomi 11 Lite Ne\",\"Xiaomi 11 Lite Ne\"}, {\"Xiaomi 11 Lite Ne\",\"Realme GT Master Edition \"}, {\"Xiaomi 11 Lite Ne\",\"Xiaomi 11 Lite Ne\"}, {\"Xiaomi 11 Lite Ne\",\"Huawei Nova 9\"}, {\"Vivo V21\",\"Vivo V21\"}, {\"Vivo V21\",\"Realme GT Master Edition \"}, {\"Vivo V21\",\"Xiaomi 11 Lite Ne\"}, {\"Vivo V21\",\"Vivo V21\"}, {\"Vivo V21\",\"Huawei Nova 9\"}, {\"Vivo V21\",\"Samsung Galaxy S21\"}, {\"Sony Xperia 10 III\",\"Sony Xperia 10 III\"}, {\"Sony Xperia 10 III\",\"Realme GT Master Edition \"}, {\"Sony Xperia 10 III\",\"Xiaomi 11 Lite Ne\"}, {\"Sony Xperia 10 III\",\"Vivo V21\"}, {\"Sony Xperia 10 III\",\"Sony Xperia 10 III\"}, {\"Sony Xperia 10 III\",\"Huawei Nova 9\"}, {\"Sony Xperia 10 III\",\"Samsung Galaxy S21\"}, {\"Huawei Nova 9\",\"Huawei Nova 9\"}, {\"Huawei Nova 9\",\"Huawei Nova 9\"}, {\"Samsung Galaxy S21\",\"Samsung Galaxy S21\"}, {\"Samsung Galaxy S21\",\"Realme GT Master Edition \"}, {\"Samsung Galaxy S21\",\"Xiaomi 11 Lite Ne\"}, {\"Samsung Galaxy S21\",\"Huawei Nova 9\"}, {\"Samsung Galaxy S21\",\"Samsung Galaxy S21\"}, {\"IPhone 11 Pro\",\"IPhone 11 Pro\"}, {\"IPhone 11 Pro\",\"Oppo A16\"}, {\"IPhone 11 Pro\",\"Motorola G50\"}, {\"IPhone 11 Pro\",\"DOOGEE S59\"}, {\"IPhone 11 Pro\",\"Xiaomi Redmi 10\"}, {\"IPhone 11 Pro\",\"Xiaomi Poco X3 Pro\"}, {\"IPhone 11 Pro\",\"Realme GT Master Edition \"}, {\"IPhone 11 Pro\",\"Xiaomi POCO F3\"}, {\"IPhone 11 Pro\",\"Xiaomi 11 Lite Ne\"}, {\"IPhone 11 Pro\",\"Vivo V21\"}, {\"IPhone 11 Pro\",\"Sony Xperia 10 III\"}, {\"IPhone 11 Pro\",\"Huawei Nova 9\"}, {\"IPhone 11 Pro\",\"Samsung Galaxy S21\"}, {\"IPhone 11 Pro\",\"IPhone 11 Pro\"}, {\"IPhone 11 Pro\",\"Sony Xperia 1 III\"}, {\"Sony Xperia 1 III\",\"Sony Xperia 1 III\"}, {\"Sony Xperia 1 III\",\"Oppo A16\"}, {\"Sony Xperia 1 III\",\"Motorola G50\"}, {\"Sony Xperia 1 III\",\"Xiaomi Redmi 10\"}, {\"Sony Xperia 1 III\",\"Realme GT Master Edition \"}, {\"Sony Xperia 1 III\",\"Xiaomi POCO F3\"}, {\"Sony Xperia 1 III\",\"Xiaomi 11 Lite Ne\"}, {\"Sony Xperia 1 III\",\"Vivo V21\"}, {\"Sony Xperia 1 III\",\"Sony Xperia 10 III\"}, {\"Sony Xperia 1 III\",\"Huawei Nova 9\"}, {\"Sony Xperia 1 III\",\"Samsung Galaxy S21\"}, {\"Sony Xperia 1 III\",\"Sony Xperia 1 III\"}, }\n",
      "{'Oppo A16': ['Oppo A16', 'DOOGEE S59', 'Samsung Galaxy S21', 'IPhone 11 Pro', 'Sony Xperia 1 III'], 'Motorola G50': ['Oppo A16', 'Motorola G50', 'DOOGEE S59', 'Xiaomi Redmi 10', 'Realme GT Master Edition ', 'Xiaomi 11 Lite Ne', 'Vivo V21', 'Sony Xperia 10 III', 'Huawei Nova 9', 'Samsung Galaxy S21', 'IPhone 11 Pro', 'Sony Xperia 1 III'], 'DOOGEE S59': ['DOOGEE S59', 'Samsung Galaxy S21', 'IPhone 11 Pro', 'Sony Xperia 1 III'], 'Xiaomi Redmi 10': ['Oppo A16', 'Motorola G50', 'DOOGEE S59', 'Xiaomi Redmi 10', 'Realme GT Master Edition ', 'Xiaomi 11 Lite Ne', 'Vivo V21', 'Sony Xperia 10 III', 'Huawei Nova 9', 'Samsung Galaxy S21', 'IPhone 11 Pro', 'Sony Xperia 1 III'], 'Xiaomi Poco X3 Pro': ['Oppo A16', 'Motorola G50', 'DOOGEE S59', 'Xiaomi Redmi 10', 'Xiaomi Poco X3 Pro', 'Realme GT Master Edition ', 'Xiaomi POCO F3', 'Xiaomi 11 Lite Ne', 'Vivo V21', 'Sony Xperia 10 III', 'Huawei Nova 9', 'Samsung Galaxy S21', 'IPhone 11 Pro', 'Sony Xperia 1 III'], 'Realme GT Master Edition ': ['Oppo A16', 'DOOGEE S59', 'Realme GT Master Edition ', 'Xiaomi 11 Lite Ne', 'Vivo V21', 'Huawei Nova 9', 'Samsung Galaxy S21', 'IPhone 11 Pro', 'Sony Xperia 1 III'], 'Xiaomi POCO F3': ['Oppo A16', 'Motorola G50', 'DOOGEE S59', 'Xiaomi Redmi 10', 'Realme GT Master Edition ', 'Xiaomi POCO F3', 'Xiaomi 11 Lite Ne', 'Vivo V21', 'Sony Xperia 10 III', 'Huawei Nova 9', 'Samsung Galaxy S21', 'IPhone 11 Pro', 'Sony Xperia 1 III'], 'Xiaomi 11 Lite Ne': ['Oppo A16', 'DOOGEE S59', 'Realme GT Master Edition ', 'Xiaomi 11 Lite Ne', 'Vivo V21', 'Huawei Nova 9', 'Samsung Galaxy S21', 'IPhone 11 Pro', 'Sony Xperia 1 III'], 'Vivo V21': ['Oppo A16', 'DOOGEE S59', 'Realme GT Master Edition ', 'Xiaomi 11 Lite Ne', 'Vivo V21', 'Huawei Nova 9', 'Samsung Galaxy S21', 'IPhone 11 Pro', 'Sony Xperia 1 III'], 'Sony Xperia 10 III': ['Oppo A16', 'DOOGEE S59', 'Realme GT Master Edition ', 'Xiaomi 11 Lite Ne', 'Vivo V21', 'Sony Xperia 10 III', 'Huawei Nova 9', 'Samsung Galaxy S21', 'IPhone 11 Pro', 'Sony Xperia 1 III'], 'Huawei Nova 9': ['Oppo A16', 'DOOGEE S59', 'Huawei Nova 9', 'Samsung Galaxy S21', 'IPhone 11 Pro', 'Sony Xperia 1 III'], 'Samsung Galaxy S21': ['Samsung Galaxy S21', 'IPhone 11 Pro', 'Sony Xperia 1 III'], 'IPhone 11 Pro': ['IPhone 11 Pro', 'Sony Xperia 1 III'], 'Sony Xperia 1 III': ['IPhone 11 Pro', 'Sony Xperia 1 III']}\n",
      "pair = {{\"Oppo A16\",\"Oppo A16\"}, {\"Oppo A16\",\"Oppo A16\"}, {\"Oppo A16\",\"DOOGEE S59\"}, {\"Oppo A16\",\"Samsung Galaxy S21\"}, {\"Oppo A16\",\"IPhone 11 Pro\"}, {\"Oppo A16\",\"Sony Xperia 1 III\"}, {\"Motorola G50\",\"Motorola G50\"}, {\"Motorola G50\",\"Oppo A16\"}, {\"Motorola G50\",\"Motorola G50\"}, {\"Motorola G50\",\"DOOGEE S59\"}, {\"Motorola G50\",\"Xiaomi Redmi 10\"}, {\"Motorola G50\",\"Realme GT Master Edition \"}, {\"Motorola G50\",\"Xiaomi 11 Lite Ne\"}, {\"Motorola G50\",\"Vivo V21\"}, {\"Motorola G50\",\"Sony Xperia 10 III\"}, {\"Motorola G50\",\"Huawei Nova 9\"}, {\"Motorola G50\",\"Samsung Galaxy S21\"}, {\"Motorola G50\",\"IPhone 11 Pro\"}, {\"Motorola G50\",\"Sony Xperia 1 III\"}, {\"DOOGEE S59\",\"DOOGEE S59\"}, {\"DOOGEE S59\",\"DOOGEE S59\"}, {\"DOOGEE S59\",\"Samsung Galaxy S21\"}, {\"DOOGEE S59\",\"IPhone 11 Pro\"}, {\"DOOGEE S59\",\"Sony Xperia 1 III\"}, {\"Xiaomi Redmi 10\",\"Xiaomi Redmi 10\"}, {\"Xiaomi Redmi 10\",\"Oppo A16\"}, {\"Xiaomi Redmi 10\",\"Motorola G50\"}, {\"Xiaomi Redmi 10\",\"DOOGEE S59\"}, {\"Xiaomi Redmi 10\",\"Xiaomi Redmi 10\"}, {\"Xiaomi Redmi 10\",\"Realme GT Master Edition \"}, {\"Xiaomi Redmi 10\",\"Xiaomi 11 Lite Ne\"}, {\"Xiaomi Redmi 10\",\"Vivo V21\"}, {\"Xiaomi Redmi 10\",\"Sony Xperia 10 III\"}, {\"Xiaomi Redmi 10\",\"Huawei Nova 9\"}, {\"Xiaomi Redmi 10\",\"Samsung Galaxy S21\"}, {\"Xiaomi Redmi 10\",\"IPhone 11 Pro\"}, {\"Xiaomi Redmi 10\",\"Sony Xperia 1 III\"}, {\"Xiaomi Poco X3 Pro\",\"Xiaomi Poco X3 Pro\"}, {\"Xiaomi Poco X3 Pro\",\"Oppo A16\"}, {\"Xiaomi Poco X3 Pro\",\"Motorola G50\"}, {\"Xiaomi Poco X3 Pro\",\"DOOGEE S59\"}, {\"Xiaomi Poco X3 Pro\",\"Xiaomi Redmi 10\"}, {\"Xiaomi Poco X3 Pro\",\"Xiaomi Poco X3 Pro\"}, {\"Xiaomi Poco X3 Pro\",\"Realme GT Master Edition \"}, {\"Xiaomi Poco X3 Pro\",\"Xiaomi POCO F3\"}, {\"Xiaomi Poco X3 Pro\",\"Xiaomi 11 Lite Ne\"}, {\"Xiaomi Poco X3 Pro\",\"Vivo V21\"}, {\"Xiaomi Poco X3 Pro\",\"Sony Xperia 10 III\"}, {\"Xiaomi Poco X3 Pro\",\"Huawei Nova 9\"}, {\"Xiaomi Poco X3 Pro\",\"Samsung Galaxy S21\"}, {\"Xiaomi Poco X3 Pro\",\"IPhone 11 Pro\"}, {\"Xiaomi Poco X3 Pro\",\"Sony Xperia 1 III\"}, {\"Realme GT Master Edition \",\"Realme GT Master Edition \"}, {\"Realme GT Master Edition \",\"Oppo A16\"}, {\"Realme GT Master Edition \",\"DOOGEE S59\"}, {\"Realme GT Master Edition \",\"Realme GT Master Edition \"}, {\"Realme GT Master Edition \",\"Xiaomi 11 Lite Ne\"}, {\"Realme GT Master Edition \",\"Vivo V21\"}, {\"Realme GT Master Edition \",\"Huawei Nova 9\"}, {\"Realme GT Master Edition \",\"Samsung Galaxy S21\"}, {\"Realme GT Master Edition \",\"IPhone 11 Pro\"}, {\"Realme GT Master Edition \",\"Sony Xperia 1 III\"}, {\"Xiaomi POCO F3\",\"Xiaomi POCO F3\"}, {\"Xiaomi POCO F3\",\"Oppo A16\"}, {\"Xiaomi POCO F3\",\"Motorola G50\"}, {\"Xiaomi POCO F3\",\"DOOGEE S59\"}, {\"Xiaomi POCO F3\",\"Xiaomi Redmi 10\"}, {\"Xiaomi POCO F3\",\"Realme GT Master Edition \"}, {\"Xiaomi POCO F3\",\"Xiaomi POCO F3\"}, {\"Xiaomi POCO F3\",\"Xiaomi 11 Lite Ne\"}, {\"Xiaomi POCO F3\",\"Vivo V21\"}, {\"Xiaomi POCO F3\",\"Sony Xperia 10 III\"}, {\"Xiaomi POCO F3\",\"Huawei Nova 9\"}, {\"Xiaomi POCO F3\",\"Samsung Galaxy S21\"}, {\"Xiaomi POCO F3\",\"IPhone 11 Pro\"}, {\"Xiaomi POCO F3\",\"Sony Xperia 1 III\"}, {\"Xiaomi 11 Lite Ne\",\"Xiaomi 11 Lite Ne\"}, {\"Xiaomi 11 Lite Ne\",\"Oppo A16\"}, {\"Xiaomi 11 Lite Ne\",\"DOOGEE S59\"}, {\"Xiaomi 11 Lite Ne\",\"Realme GT Master Edition \"}, {\"Xiaomi 11 Lite Ne\",\"Xiaomi 11 Lite Ne\"}, {\"Xiaomi 11 Lite Ne\",\"Vivo V21\"}, {\"Xiaomi 11 Lite Ne\",\"Huawei Nova 9\"}, {\"Xiaomi 11 Lite Ne\",\"Samsung Galaxy S21\"}, {\"Xiaomi 11 Lite Ne\",\"IPhone 11 Pro\"}, {\"Xiaomi 11 Lite Ne\",\"Sony Xperia 1 III\"}, {\"Vivo V21\",\"Vivo V21\"}, {\"Vivo V21\",\"Oppo A16\"}, {\"Vivo V21\",\"DOOGEE S59\"}, {\"Vivo V21\",\"Realme GT Master Edition \"}, {\"Vivo V21\",\"Xiaomi 11 Lite Ne\"}, {\"Vivo V21\",\"Vivo V21\"}, {\"Vivo V21\",\"Huawei Nova 9\"}, {\"Vivo V21\",\"Samsung Galaxy S21\"}, {\"Vivo V21\",\"IPhone 11 Pro\"}, {\"Vivo V21\",\"Sony Xperia 1 III\"}, {\"Sony Xperia 10 III\",\"Sony Xperia 10 III\"}, {\"Sony Xperia 10 III\",\"Oppo A16\"}, {\"Sony Xperia 10 III\",\"DOOGEE S59\"}, {\"Sony Xperia 10 III\",\"Realme GT Master Edition \"}, {\"Sony Xperia 10 III\",\"Xiaomi 11 Lite Ne\"}, {\"Sony Xperia 10 III\",\"Vivo V21\"}, {\"Sony Xperia 10 III\",\"Sony Xperia 10 III\"}, {\"Sony Xperia 10 III\",\"Huawei Nova 9\"}, {\"Sony Xperia 10 III\",\"Samsung Galaxy S21\"}, {\"Sony Xperia 10 III\",\"IPhone 11 Pro\"}, {\"Sony Xperia 10 III\",\"Sony Xperia 1 III\"}, {\"Huawei Nova 9\",\"Huawei Nova 9\"}, {\"Huawei Nova 9\",\"Oppo A16\"}, {\"Huawei Nova 9\",\"DOOGEE S59\"}, {\"Huawei Nova 9\",\"Huawei Nova 9\"}, {\"Huawei Nova 9\",\"Samsung Galaxy S21\"}, {\"Huawei Nova 9\",\"IPhone 11 Pro\"}, {\"Huawei Nova 9\",\"Sony Xperia 1 III\"}, {\"Samsung Galaxy S21\",\"Samsung Galaxy S21\"}, {\"Samsung Galaxy S21\",\"Samsung Galaxy S21\"}, {\"Samsung Galaxy S21\",\"IPhone 11 Pro\"}, {\"Samsung Galaxy S21\",\"Sony Xperia 1 III\"}, {\"IPhone 11 Pro\",\"IPhone 11 Pro\"}, {\"IPhone 11 Pro\",\"IPhone 11 Pro\"}, {\"IPhone 11 Pro\",\"Sony Xperia 1 III\"}, {\"Sony Xperia 1 III\",\"Sony Xperia 1 III\"}, {\"Sony Xperia 1 III\",\"IPhone 11 Pro\"}, {\"Sony Xperia 1 III\",\"Sony Xperia 1 III\"}, }\n"
     ]
    }
   ],
   "source": [
    "make_printable_pairs(asc_rank, names)\n",
    "make_printable_pairs(des_rank, names)\n"
   ]
  },
  {
   "cell_type": "code",
   "execution_count": 62,
   "metadata": {},
   "outputs": [
    {
     "name": "stdout",
     "output_type": "stream",
     "text": [
      "{'Oppo A16': ['Oppo A16', 'Motorola G50', 'DOOGEE S59', 'Xiaomi Redmi 10', 'Xiaomi Poco X3 Pro', 'Xiaomi POCO F3', 'IPhone 11 Pro'], 'Motorola G50': ['Motorola G50', 'DOOGEE S59', 'Xiaomi Poco X3 Pro', 'Xiaomi POCO F3'], 'DOOGEE S59': ['DOOGEE S59', 'Xiaomi Poco X3 Pro', 'Xiaomi POCO F3'], 'Xiaomi Redmi 10': ['Motorola G50', 'DOOGEE S59', 'Xiaomi Redmi 10', 'Xiaomi Poco X3 Pro', 'Xiaomi POCO F3', 'IPhone 11 Pro'], 'Xiaomi Poco X3 Pro': ['Xiaomi Poco X3 Pro'], 'Realme GT Master Edition ': ['Oppo A16', 'Motorola G50', 'DOOGEE S59', 'Xiaomi Redmi 10', 'Xiaomi Poco X3 Pro', 'Realme GT Master Edition ', 'Xiaomi POCO F3', 'Xiaomi 11 Lite Ne', 'Vivo V21', 'Sony Xperia 10 III', 'IPhone 11 Pro', 'Sony Xperia 1 III'], 'Xiaomi POCO F3': ['Xiaomi Poco X3 Pro', 'Xiaomi POCO F3'], 'Xiaomi 11 Lite Ne': ['Oppo A16', 'Motorola G50', 'DOOGEE S59', 'Xiaomi Redmi 10', 'Xiaomi Poco X3 Pro', 'Realme GT Master Edition ', 'Xiaomi POCO F3', 'Xiaomi 11 Lite Ne', 'Vivo V21', 'Sony Xperia 10 III', 'IPhone 11 Pro', 'Sony Xperia 1 III'], 'Vivo V21': ['Oppo A16', 'Motorola G50', 'DOOGEE S59', 'Xiaomi Redmi 10', 'Xiaomi Poco X3 Pro', 'Xiaomi POCO F3', 'Vivo V21', 'Sony Xperia 10 III', 'IPhone 11 Pro', 'Sony Xperia 1 III'], 'Sony Xperia 10 III': ['Oppo A16', 'Motorola G50', 'DOOGEE S59', 'Xiaomi Redmi 10', 'Xiaomi Poco X3 Pro', 'Xiaomi POCO F3', 'Sony Xperia 10 III', 'IPhone 11 Pro', 'Sony Xperia 1 III'], 'Huawei Nova 9': ['Oppo A16', 'Motorola G50', 'DOOGEE S59', 'Xiaomi Redmi 10', 'Xiaomi Poco X3 Pro', 'Realme GT Master Edition ', 'Xiaomi POCO F3', 'Xiaomi 11 Lite Ne', 'Vivo V21', 'Sony Xperia 10 III', 'Huawei Nova 9', 'Samsung Galaxy S21', 'IPhone 11 Pro', 'Sony Xperia 1 III'], 'Samsung Galaxy S21': ['Oppo A16', 'Motorola G50', 'DOOGEE S59', 'Xiaomi Redmi 10', 'Xiaomi Poco X3 Pro', 'Realme GT Master Edition ', 'Xiaomi POCO F3', 'Xiaomi 11 Lite Ne', 'Vivo V21', 'Sony Xperia 10 III', 'Samsung Galaxy S21', 'IPhone 11 Pro', 'Sony Xperia 1 III'], 'IPhone 11 Pro': ['Motorola G50', 'DOOGEE S59', 'Xiaomi Poco X3 Pro', 'Xiaomi POCO F3', 'IPhone 11 Pro'], 'Sony Xperia 1 III': ['Oppo A16', 'Motorola G50', 'DOOGEE S59', 'Xiaomi Redmi 10', 'Xiaomi Poco X3 Pro', 'Xiaomi POCO F3', 'IPhone 11 Pro', 'Sony Xperia 1 III']}\n",
      "pair = {{\"Oppo A16\",\"Oppo A16\"}, {\"Oppo A16\",\"Oppo A16\"}, {\"Oppo A16\",\"Motorola G50\"}, {\"Oppo A16\",\"DOOGEE S59\"}, {\"Oppo A16\",\"Xiaomi Redmi 10\"}, {\"Oppo A16\",\"Xiaomi Poco X3 Pro\"}, {\"Oppo A16\",\"Xiaomi POCO F3\"}, {\"Oppo A16\",\"IPhone 11 Pro\"}, {\"Motorola G50\",\"Motorola G50\"}, {\"Motorola G50\",\"Motorola G50\"}, {\"Motorola G50\",\"DOOGEE S59\"}, {\"Motorola G50\",\"Xiaomi Poco X3 Pro\"}, {\"Motorola G50\",\"Xiaomi POCO F3\"}, {\"DOOGEE S59\",\"DOOGEE S59\"}, {\"DOOGEE S59\",\"DOOGEE S59\"}, {\"DOOGEE S59\",\"Xiaomi Poco X3 Pro\"}, {\"DOOGEE S59\",\"Xiaomi POCO F3\"}, {\"Xiaomi Redmi 10\",\"Xiaomi Redmi 10\"}, {\"Xiaomi Redmi 10\",\"Motorola G50\"}, {\"Xiaomi Redmi 10\",\"DOOGEE S59\"}, {\"Xiaomi Redmi 10\",\"Xiaomi Redmi 10\"}, {\"Xiaomi Redmi 10\",\"Xiaomi Poco X3 Pro\"}, {\"Xiaomi Redmi 10\",\"Xiaomi POCO F3\"}, {\"Xiaomi Redmi 10\",\"IPhone 11 Pro\"}, {\"Xiaomi Poco X3 Pro\",\"Xiaomi Poco X3 Pro\"}, {\"Xiaomi Poco X3 Pro\",\"Xiaomi Poco X3 Pro\"}, {\"Realme GT Master Edition \",\"Realme GT Master Edition \"}, {\"Realme GT Master Edition \",\"Oppo A16\"}, {\"Realme GT Master Edition \",\"Motorola G50\"}, {\"Realme GT Master Edition \",\"DOOGEE S59\"}, {\"Realme GT Master Edition \",\"Xiaomi Redmi 10\"}, {\"Realme GT Master Edition \",\"Xiaomi Poco X3 Pro\"}, {\"Realme GT Master Edition \",\"Realme GT Master Edition \"}, {\"Realme GT Master Edition \",\"Xiaomi POCO F3\"}, {\"Realme GT Master Edition \",\"Xiaomi 11 Lite Ne\"}, {\"Realme GT Master Edition \",\"Vivo V21\"}, {\"Realme GT Master Edition \",\"Sony Xperia 10 III\"}, {\"Realme GT Master Edition \",\"IPhone 11 Pro\"}, {\"Realme GT Master Edition \",\"Sony Xperia 1 III\"}, {\"Xiaomi POCO F3\",\"Xiaomi POCO F3\"}, {\"Xiaomi POCO F3\",\"Xiaomi Poco X3 Pro\"}, {\"Xiaomi POCO F3\",\"Xiaomi POCO F3\"}, {\"Xiaomi 11 Lite Ne\",\"Xiaomi 11 Lite Ne\"}, {\"Xiaomi 11 Lite Ne\",\"Oppo A16\"}, {\"Xiaomi 11 Lite Ne\",\"Motorola G50\"}, {\"Xiaomi 11 Lite Ne\",\"DOOGEE S59\"}, {\"Xiaomi 11 Lite Ne\",\"Xiaomi Redmi 10\"}, {\"Xiaomi 11 Lite Ne\",\"Xiaomi Poco X3 Pro\"}, {\"Xiaomi 11 Lite Ne\",\"Realme GT Master Edition \"}, {\"Xiaomi 11 Lite Ne\",\"Xiaomi POCO F3\"}, {\"Xiaomi 11 Lite Ne\",\"Xiaomi 11 Lite Ne\"}, {\"Xiaomi 11 Lite Ne\",\"Vivo V21\"}, {\"Xiaomi 11 Lite Ne\",\"Sony Xperia 10 III\"}, {\"Xiaomi 11 Lite Ne\",\"IPhone 11 Pro\"}, {\"Xiaomi 11 Lite Ne\",\"Sony Xperia 1 III\"}, {\"Vivo V21\",\"Vivo V21\"}, {\"Vivo V21\",\"Oppo A16\"}, {\"Vivo V21\",\"Motorola G50\"}, {\"Vivo V21\",\"DOOGEE S59\"}, {\"Vivo V21\",\"Xiaomi Redmi 10\"}, {\"Vivo V21\",\"Xiaomi Poco X3 Pro\"}, {\"Vivo V21\",\"Xiaomi POCO F3\"}, {\"Vivo V21\",\"Vivo V21\"}, {\"Vivo V21\",\"Sony Xperia 10 III\"}, {\"Vivo V21\",\"IPhone 11 Pro\"}, {\"Vivo V21\",\"Sony Xperia 1 III\"}, {\"Sony Xperia 10 III\",\"Sony Xperia 10 III\"}, {\"Sony Xperia 10 III\",\"Oppo A16\"}, {\"Sony Xperia 10 III\",\"Motorola G50\"}, {\"Sony Xperia 10 III\",\"DOOGEE S59\"}, {\"Sony Xperia 10 III\",\"Xiaomi Redmi 10\"}, {\"Sony Xperia 10 III\",\"Xiaomi Poco X3 Pro\"}, {\"Sony Xperia 10 III\",\"Xiaomi POCO F3\"}, {\"Sony Xperia 10 III\",\"Sony Xperia 10 III\"}, {\"Sony Xperia 10 III\",\"IPhone 11 Pro\"}, {\"Sony Xperia 10 III\",\"Sony Xperia 1 III\"}, {\"Huawei Nova 9\",\"Huawei Nova 9\"}, {\"Huawei Nova 9\",\"Oppo A16\"}, {\"Huawei Nova 9\",\"Motorola G50\"}, {\"Huawei Nova 9\",\"DOOGEE S59\"}, {\"Huawei Nova 9\",\"Xiaomi Redmi 10\"}, {\"Huawei Nova 9\",\"Xiaomi Poco X3 Pro\"}, {\"Huawei Nova 9\",\"Realme GT Master Edition \"}, {\"Huawei Nova 9\",\"Xiaomi POCO F3\"}, {\"Huawei Nova 9\",\"Xiaomi 11 Lite Ne\"}, {\"Huawei Nova 9\",\"Vivo V21\"}, {\"Huawei Nova 9\",\"Sony Xperia 10 III\"}, {\"Huawei Nova 9\",\"Huawei Nova 9\"}, {\"Huawei Nova 9\",\"Samsung Galaxy S21\"}, {\"Huawei Nova 9\",\"IPhone 11 Pro\"}, {\"Huawei Nova 9\",\"Sony Xperia 1 III\"}, {\"Samsung Galaxy S21\",\"Samsung Galaxy S21\"}, {\"Samsung Galaxy S21\",\"Oppo A16\"}, {\"Samsung Galaxy S21\",\"Motorola G50\"}, {\"Samsung Galaxy S21\",\"DOOGEE S59\"}, {\"Samsung Galaxy S21\",\"Xiaomi Redmi 10\"}, {\"Samsung Galaxy S21\",\"Xiaomi Poco X3 Pro\"}, {\"Samsung Galaxy S21\",\"Realme GT Master Edition \"}, {\"Samsung Galaxy S21\",\"Xiaomi POCO F3\"}, {\"Samsung Galaxy S21\",\"Xiaomi 11 Lite Ne\"}, {\"Samsung Galaxy S21\",\"Vivo V21\"}, {\"Samsung Galaxy S21\",\"Sony Xperia 10 III\"}, {\"Samsung Galaxy S21\",\"Samsung Galaxy S21\"}, {\"Samsung Galaxy S21\",\"IPhone 11 Pro\"}, {\"Samsung Galaxy S21\",\"Sony Xperia 1 III\"}, {\"IPhone 11 Pro\",\"IPhone 11 Pro\"}, {\"IPhone 11 Pro\",\"Motorola G50\"}, {\"IPhone 11 Pro\",\"DOOGEE S59\"}, {\"IPhone 11 Pro\",\"Xiaomi Poco X3 Pro\"}, {\"IPhone 11 Pro\",\"Xiaomi POCO F3\"}, {\"IPhone 11 Pro\",\"IPhone 11 Pro\"}, {\"Sony Xperia 1 III\",\"Sony Xperia 1 III\"}, {\"Sony Xperia 1 III\",\"Oppo A16\"}, {\"Sony Xperia 1 III\",\"Motorola G50\"}, {\"Sony Xperia 1 III\",\"DOOGEE S59\"}, {\"Sony Xperia 1 III\",\"Xiaomi Redmi 10\"}, {\"Sony Xperia 1 III\",\"Xiaomi Poco X3 Pro\"}, {\"Sony Xperia 1 III\",\"Xiaomi POCO F3\"}, {\"Sony Xperia 1 III\",\"IPhone 11 Pro\"}, {\"Sony Xperia 1 III\",\"Sony Xperia 1 III\"}, }\n"
     ]
    }
   ],
   "source": [
    "make_printable_pairs(median_rank, names)"
   ]
  },
  {
   "cell_type": "code",
   "execution_count": 63,
   "metadata": {},
   "outputs": [
    {
     "name": "stdout",
     "output_type": "stream",
     "text": [
      "{'Oppo A16': ['Oppo A16', 'Motorola G50', 'DOOGEE S59', 'Xiaomi Redmi 10', 'Xiaomi Poco X3 Pro', 'Xiaomi POCO F3', 'IPhone 11 Pro', 'Sony Xperia 1 III'], 'Motorola G50': ['Motorola G50', 'DOOGEE S59', 'Xiaomi Poco X3 Pro', 'Xiaomi POCO F3', 'IPhone 11 Pro'], 'DOOGEE S59': ['DOOGEE S59', 'Xiaomi Poco X3 Pro', 'Xiaomi POCO F3'], 'Xiaomi Redmi 10': ['Oppo A16', 'Motorola G50', 'DOOGEE S59', 'Xiaomi Redmi 10', 'Xiaomi Poco X3 Pro', 'Xiaomi POCO F3', 'IPhone 11 Pro', 'Sony Xperia 1 III'], 'Xiaomi Poco X3 Pro': ['Xiaomi Poco X3 Pro'], 'Realme GT Master Edition ': ['Oppo A16', 'Motorola G50', 'DOOGEE S59', 'Xiaomi Redmi 10', 'Xiaomi Poco X3 Pro', 'Realme GT Master Edition ', 'Xiaomi POCO F3', 'Xiaomi 11 Lite Ne', 'Vivo V21', 'Sony Xperia 10 III', 'Samsung Galaxy S21', 'IPhone 11 Pro', 'Sony Xperia 1 III'], 'Xiaomi POCO F3': ['DOOGEE S59', 'Xiaomi Poco X3 Pro', 'Xiaomi POCO F3'], 'Xiaomi 11 Lite Ne': ['Oppo A16', 'Motorola G50', 'DOOGEE S59', 'Xiaomi Redmi 10', 'Xiaomi Poco X3 Pro', 'Realme GT Master Edition ', 'Xiaomi POCO F3', 'Xiaomi 11 Lite Ne', 'Vivo V21', 'Sony Xperia 10 III', 'Samsung Galaxy S21', 'IPhone 11 Pro', 'Sony Xperia 1 III'], 'Vivo V21': ['Oppo A16', 'Motorola G50', 'DOOGEE S59', 'Xiaomi Redmi 10', 'Xiaomi Poco X3 Pro', 'Xiaomi POCO F3', 'Vivo V21', 'Sony Xperia 10 III', 'IPhone 11 Pro', 'Sony Xperia 1 III'], 'Sony Xperia 10 III': ['Oppo A16', 'Motorola G50', 'DOOGEE S59', 'Xiaomi Redmi 10', 'Xiaomi Poco X3 Pro', 'Xiaomi POCO F3', 'Sony Xperia 10 III', 'IPhone 11 Pro', 'Sony Xperia 1 III'], 'Huawei Nova 9': ['Oppo A16', 'Motorola G50', 'DOOGEE S59', 'Xiaomi Redmi 10', 'Xiaomi Poco X3 Pro', 'Realme GT Master Edition ', 'Xiaomi POCO F3', 'Xiaomi 11 Lite Ne', 'Vivo V21', 'Sony Xperia 10 III', 'Huawei Nova 9', 'Samsung Galaxy S21', 'IPhone 11 Pro', 'Sony Xperia 1 III'], 'Samsung Galaxy S21': ['Oppo A16', 'Motorola G50', 'DOOGEE S59', 'Xiaomi Redmi 10', 'Xiaomi Poco X3 Pro', 'Realme GT Master Edition ', 'Xiaomi POCO F3', 'Xiaomi 11 Lite Ne', 'Vivo V21', 'Sony Xperia 10 III', 'Samsung Galaxy S21', 'IPhone 11 Pro', 'Sony Xperia 1 III'], 'IPhone 11 Pro': ['Motorola G50', 'DOOGEE S59', 'Xiaomi Poco X3 Pro', 'Xiaomi POCO F3', 'IPhone 11 Pro'], 'Sony Xperia 1 III': ['Oppo A16', 'Motorola G50', 'DOOGEE S59', 'Xiaomi Redmi 10', 'Xiaomi Poco X3 Pro', 'Xiaomi POCO F3', 'IPhone 11 Pro', 'Sony Xperia 1 III']}\n",
      "pair = {{\"Oppo A16\",\"Oppo A16\"}, {\"Oppo A16\",\"Oppo A16\"}, {\"Oppo A16\",\"Motorola G50\"}, {\"Oppo A16\",\"DOOGEE S59\"}, {\"Oppo A16\",\"Xiaomi Redmi 10\"}, {\"Oppo A16\",\"Xiaomi Poco X3 Pro\"}, {\"Oppo A16\",\"Xiaomi POCO F3\"}, {\"Oppo A16\",\"IPhone 11 Pro\"}, {\"Oppo A16\",\"Sony Xperia 1 III\"}, {\"Motorola G50\",\"Motorola G50\"}, {\"Motorola G50\",\"Motorola G50\"}, {\"Motorola G50\",\"DOOGEE S59\"}, {\"Motorola G50\",\"Xiaomi Poco X3 Pro\"}, {\"Motorola G50\",\"Xiaomi POCO F3\"}, {\"Motorola G50\",\"IPhone 11 Pro\"}, {\"DOOGEE S59\",\"DOOGEE S59\"}, {\"DOOGEE S59\",\"DOOGEE S59\"}, {\"DOOGEE S59\",\"Xiaomi Poco X3 Pro\"}, {\"DOOGEE S59\",\"Xiaomi POCO F3\"}, {\"Xiaomi Redmi 10\",\"Xiaomi Redmi 10\"}, {\"Xiaomi Redmi 10\",\"Oppo A16\"}, {\"Xiaomi Redmi 10\",\"Motorola G50\"}, {\"Xiaomi Redmi 10\",\"DOOGEE S59\"}, {\"Xiaomi Redmi 10\",\"Xiaomi Redmi 10\"}, {\"Xiaomi Redmi 10\",\"Xiaomi Poco X3 Pro\"}, {\"Xiaomi Redmi 10\",\"Xiaomi POCO F3\"}, {\"Xiaomi Redmi 10\",\"IPhone 11 Pro\"}, {\"Xiaomi Redmi 10\",\"Sony Xperia 1 III\"}, {\"Xiaomi Poco X3 Pro\",\"Xiaomi Poco X3 Pro\"}, {\"Xiaomi Poco X3 Pro\",\"Xiaomi Poco X3 Pro\"}, {\"Realme GT Master Edition \",\"Realme GT Master Edition \"}, {\"Realme GT Master Edition \",\"Oppo A16\"}, {\"Realme GT Master Edition \",\"Motorola G50\"}, {\"Realme GT Master Edition \",\"DOOGEE S59\"}, {\"Realme GT Master Edition \",\"Xiaomi Redmi 10\"}, {\"Realme GT Master Edition \",\"Xiaomi Poco X3 Pro\"}, {\"Realme GT Master Edition \",\"Realme GT Master Edition \"}, {\"Realme GT Master Edition \",\"Xiaomi POCO F3\"}, {\"Realme GT Master Edition \",\"Xiaomi 11 Lite Ne\"}, {\"Realme GT Master Edition \",\"Vivo V21\"}, {\"Realme GT Master Edition \",\"Sony Xperia 10 III\"}, {\"Realme GT Master Edition \",\"Samsung Galaxy S21\"}, {\"Realme GT Master Edition \",\"IPhone 11 Pro\"}, {\"Realme GT Master Edition \",\"Sony Xperia 1 III\"}, {\"Xiaomi POCO F3\",\"Xiaomi POCO F3\"}, {\"Xiaomi POCO F3\",\"DOOGEE S59\"}, {\"Xiaomi POCO F3\",\"Xiaomi Poco X3 Pro\"}, {\"Xiaomi POCO F3\",\"Xiaomi POCO F3\"}, {\"Xiaomi 11 Lite Ne\",\"Xiaomi 11 Lite Ne\"}, {\"Xiaomi 11 Lite Ne\",\"Oppo A16\"}, {\"Xiaomi 11 Lite Ne\",\"Motorola G50\"}, {\"Xiaomi 11 Lite Ne\",\"DOOGEE S59\"}, {\"Xiaomi 11 Lite Ne\",\"Xiaomi Redmi 10\"}, {\"Xiaomi 11 Lite Ne\",\"Xiaomi Poco X3 Pro\"}, {\"Xiaomi 11 Lite Ne\",\"Realme GT Master Edition \"}, {\"Xiaomi 11 Lite Ne\",\"Xiaomi POCO F3\"}, {\"Xiaomi 11 Lite Ne\",\"Xiaomi 11 Lite Ne\"}, {\"Xiaomi 11 Lite Ne\",\"Vivo V21\"}, {\"Xiaomi 11 Lite Ne\",\"Sony Xperia 10 III\"}, {\"Xiaomi 11 Lite Ne\",\"Samsung Galaxy S21\"}, {\"Xiaomi 11 Lite Ne\",\"IPhone 11 Pro\"}, {\"Xiaomi 11 Lite Ne\",\"Sony Xperia 1 III\"}, {\"Vivo V21\",\"Vivo V21\"}, {\"Vivo V21\",\"Oppo A16\"}, {\"Vivo V21\",\"Motorola G50\"}, {\"Vivo V21\",\"DOOGEE S59\"}, {\"Vivo V21\",\"Xiaomi Redmi 10\"}, {\"Vivo V21\",\"Xiaomi Poco X3 Pro\"}, {\"Vivo V21\",\"Xiaomi POCO F3\"}, {\"Vivo V21\",\"Vivo V21\"}, {\"Vivo V21\",\"Sony Xperia 10 III\"}, {\"Vivo V21\",\"IPhone 11 Pro\"}, {\"Vivo V21\",\"Sony Xperia 1 III\"}, {\"Sony Xperia 10 III\",\"Sony Xperia 10 III\"}, {\"Sony Xperia 10 III\",\"Oppo A16\"}, {\"Sony Xperia 10 III\",\"Motorola G50\"}, {\"Sony Xperia 10 III\",\"DOOGEE S59\"}, {\"Sony Xperia 10 III\",\"Xiaomi Redmi 10\"}, {\"Sony Xperia 10 III\",\"Xiaomi Poco X3 Pro\"}, {\"Sony Xperia 10 III\",\"Xiaomi POCO F3\"}, {\"Sony Xperia 10 III\",\"Sony Xperia 10 III\"}, {\"Sony Xperia 10 III\",\"IPhone 11 Pro\"}, {\"Sony Xperia 10 III\",\"Sony Xperia 1 III\"}, {\"Huawei Nova 9\",\"Huawei Nova 9\"}, {\"Huawei Nova 9\",\"Oppo A16\"}, {\"Huawei Nova 9\",\"Motorola G50\"}, {\"Huawei Nova 9\",\"DOOGEE S59\"}, {\"Huawei Nova 9\",\"Xiaomi Redmi 10\"}, {\"Huawei Nova 9\",\"Xiaomi Poco X3 Pro\"}, {\"Huawei Nova 9\",\"Realme GT Master Edition \"}, {\"Huawei Nova 9\",\"Xiaomi POCO F3\"}, {\"Huawei Nova 9\",\"Xiaomi 11 Lite Ne\"}, {\"Huawei Nova 9\",\"Vivo V21\"}, {\"Huawei Nova 9\",\"Sony Xperia 10 III\"}, {\"Huawei Nova 9\",\"Huawei Nova 9\"}, {\"Huawei Nova 9\",\"Samsung Galaxy S21\"}, {\"Huawei Nova 9\",\"IPhone 11 Pro\"}, {\"Huawei Nova 9\",\"Sony Xperia 1 III\"}, {\"Samsung Galaxy S21\",\"Samsung Galaxy S21\"}, {\"Samsung Galaxy S21\",\"Oppo A16\"}, {\"Samsung Galaxy S21\",\"Motorola G50\"}, {\"Samsung Galaxy S21\",\"DOOGEE S59\"}, {\"Samsung Galaxy S21\",\"Xiaomi Redmi 10\"}, {\"Samsung Galaxy S21\",\"Xiaomi Poco X3 Pro\"}, {\"Samsung Galaxy S21\",\"Realme GT Master Edition \"}, {\"Samsung Galaxy S21\",\"Xiaomi POCO F3\"}, {\"Samsung Galaxy S21\",\"Xiaomi 11 Lite Ne\"}, {\"Samsung Galaxy S21\",\"Vivo V21\"}, {\"Samsung Galaxy S21\",\"Sony Xperia 10 III\"}, {\"Samsung Galaxy S21\",\"Samsung Galaxy S21\"}, {\"Samsung Galaxy S21\",\"IPhone 11 Pro\"}, {\"Samsung Galaxy S21\",\"Sony Xperia 1 III\"}, {\"IPhone 11 Pro\",\"IPhone 11 Pro\"}, {\"IPhone 11 Pro\",\"Motorola G50\"}, {\"IPhone 11 Pro\",\"DOOGEE S59\"}, {\"IPhone 11 Pro\",\"Xiaomi Poco X3 Pro\"}, {\"IPhone 11 Pro\",\"Xiaomi POCO F3\"}, {\"IPhone 11 Pro\",\"IPhone 11 Pro\"}, {\"Sony Xperia 1 III\",\"Sony Xperia 1 III\"}, {\"Sony Xperia 1 III\",\"Oppo A16\"}, {\"Sony Xperia 1 III\",\"Motorola G50\"}, {\"Sony Xperia 1 III\",\"DOOGEE S59\"}, {\"Sony Xperia 1 III\",\"Xiaomi Redmi 10\"}, {\"Sony Xperia 1 III\",\"Xiaomi Poco X3 Pro\"}, {\"Sony Xperia 1 III\",\"Xiaomi POCO F3\"}, {\"Sony Xperia 1 III\",\"IPhone 11 Pro\"}, {\"Sony Xperia 1 III\",\"Sony Xperia 1 III\"}, }\n"
     ]
    }
   ],
   "source": [
    "make_printable_pairs(normal_rank, names)"
   ]
  }
 ],
 "metadata": {
  "kernelspec": {
   "display_name": "my_env",
   "language": "python",
   "name": "python3"
  },
  "language_info": {
   "codemirror_mode": {
    "name": "ipython",
    "version": 3
   },
   "file_extension": ".py",
   "mimetype": "text/x-python",
   "name": "python",
   "nbconvert_exporter": "python",
   "pygments_lexer": "ipython3",
   "version": "3.9.13"
  },
  "orig_nbformat": 4
 },
 "nbformat": 4,
 "nbformat_minor": 2
}
