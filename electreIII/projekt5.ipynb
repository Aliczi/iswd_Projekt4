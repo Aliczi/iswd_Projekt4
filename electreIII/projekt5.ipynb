{
 "cells": [
  {
   "cell_type": "code",
   "execution_count": 13,
   "metadata": {},
   "outputs": [],
   "source": [
    "import pandas as pd\n",
    "import numpy as np"
   ]
  },
  {
   "cell_type": "code",
   "execution_count": 77,
   "metadata": {},
   "outputs": [],
   "source": [
    "def calc_marginal_concordances(el1, el2, info):\n",
    "    cs = []\n",
    "    for i, (a, b) in enumerate(zip(el1, el2)):\n",
    "        t, q, p, _ = info[i].values()\n",
    "        if t == 'g':\n",
    "            if b < a + q:\n",
    "                cs.append(1)\n",
    "            elif b < a + p:\n",
    "                cs.append((a+p-b)/(p-q))\n",
    "            else:\n",
    "                cs.append(0)\n",
    "        else: # criterion type cost\n",
    "            if b < a - p:\n",
    "                cs.append(0)\n",
    "            elif b < a - q:\n",
    "                cs.append((b-a+p)/(p-q))\n",
    "            else:\n",
    "                cs.append(1)\n",
    "    return cs\n",
    "\n",
    "def calc_marginal_discordances(el1, el2, info):\n",
    "    ds = []\n",
    "    for i, (a, b) in enumerate(zip(el1, el2)):\n",
    "        t, _, p, v = info[i].values()\n",
    "        if t == 'g':\n",
    "            if b < a + p:\n",
    "                ds.append(0)\n",
    "            elif b < a + v:\n",
    "                ds.append((b-a-p)/(v-p))\n",
    "            else:\n",
    "                ds.append(1)\n",
    "        else: # criterion type cost\n",
    "            if b < a - v:\n",
    "                ds.append(1)\n",
    "            elif b < a - p:\n",
    "                ds.append((a-p-b)/(v-p))\n",
    "            else:\n",
    "                ds.append(0)\n",
    "    return ds\n",
    "\n",
    "def comprehensive_concordance(marginal_conc, weights):\n",
    "    return np.dot(np.array(weights), np.array(marginal_conc)) / np.sum(weights)\n",
    "\n",
    "def outranking_credibilities_sigma(conc_C: float, dis_D):\n",
    "    return conc_C * np.prod([(1-dis)/(1-conc_C) for dis in dis_D if dis > conc_C])\n",
    "\n",
    "def create_credibility_mat(df, weights, info):\n",
    "    arr = np.array(df)\n",
    "    credibility_mat = np.zeros((arr.shape[0],arr.shape[0]))\n",
    "    for i in range(arr.shape[0]):\n",
    "        for j in range(arr.shape[0]):\n",
    "            c = calc_marginal_concordances(arr[i], arr[j], info)\n",
    "            D = calc_marginal_discordances(arr[i], arr[j], info)\n",
    "            C = comprehensive_concordance(c, weights)\n",
    "            credibility_mat[i,j] = outranking_credibilities_sigma(C, D)\n",
    "\n",
    "    return credibility_mat"
   ]
  },
  {
   "cell_type": "code",
   "execution_count": 79,
   "metadata": {},
   "outputs": [
    {
     "data": {
      "text/plain": [
       "array([[1. , 0. , 0. ],\n",
       "       [1. , 1. , 0.7],\n",
       "       [1. , 0.3, 1. ]])"
      ]
     },
     "execution_count": 79,
     "metadata": {},
     "output_type": "execute_result"
    }
   ],
   "source": [
    "df = pd.read_csv(\"przyklad_wyk.csv\")\n",
    "weights = [2, 3]\n",
    "info = [\n",
    "    {'type': 'g', 'iff': 10, 'pref':50, 'veto':100},\n",
    "    {'type': 'c', 'iff': 0, 'pref':10, 'veto':20} \n",
    "]\n",
    "credibility_mat = create_credibility_mat(df, weights, info)\n",
    "credibility_mat\n"
   ]
  },
  {
   "cell_type": "code",
   "execution_count": 81,
   "metadata": {},
   "outputs": [
    {
     "data": {
      "text/plain": [
       "array([[1.        , 0.6       , 0.3       , 0.7       , 0.55      ],\n",
       "       [0.        , 1.        , 0.2037037 , 0.        , 0.        ],\n",
       "       [0.58333333, 0.6       , 1.        , 0.85      , 0.        ],\n",
       "       [0.3       , 0.        , 0.6       , 1.        , 0.58333333],\n",
       "       [0.6       , 0.        , 0.6       , 0.7       , 1.        ]])"
      ]
     },
     "execution_count": 81,
     "metadata": {},
     "output_type": "execute_result"
    }
   ],
   "source": [
    "df = pd.read_csv(\"przyklad_lab.csv\")\n",
    "weights = [3, 3, 4]\n",
    "info = [\n",
    "    {'type': 'g', 'iff': 4, 'pref':12, 'veto':28},\n",
    "    {'type': 'g', 'iff': 1, 'pref':2, 'veto':8},\n",
    "    {'type': 'c', 'iff': 100, 'pref':200, 'veto':600} \n",
    "]\n",
    "credibility_mat = create_credibility_mat(df, weights, info)\n",
    "credibility_mat"
   ]
  }
 ],
 "metadata": {
  "kernelspec": {
   "display_name": "my_env",
   "language": "python",
   "name": "python3"
  },
  "language_info": {
   "codemirror_mode": {
    "name": "ipython",
    "version": 3
   },
   "file_extension": ".py",
   "mimetype": "text/x-python",
   "name": "python",
   "nbconvert_exporter": "python",
   "pygments_lexer": "ipython3",
   "version": "3.10.7"
  },
  "orig_nbformat": 4
 },
 "nbformat": 4,
 "nbformat_minor": 2
}
