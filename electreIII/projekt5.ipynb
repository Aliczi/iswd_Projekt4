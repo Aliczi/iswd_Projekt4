{
 "cells": [
  {
   "cell_type": "code",
   "execution_count": 11,
   "metadata": {},
   "outputs": [],
   "source": [
    "import pandas as pd\n",
    "import numpy as np"
   ]
  },
  {
   "cell_type": "code",
   "execution_count": 12,
   "metadata": {},
   "outputs": [],
   "source": [
    "def calc_marginal_concordances(el1, el2, info):\n",
    "    cs = []\n",
    "    for i, (a, b) in enumerate(zip(el1, el2)):\n",
    "        t, q, p, _ = info[i].values()\n",
    "        if t == 'g':\n",
    "            if b < a + q:\n",
    "                cs.append(1)\n",
    "            elif b < a + p:\n",
    "                cs.append((a+p-b)/(p-q))\n",
    "            else:\n",
    "                cs.append(0)\n",
    "        else: # criterion type cost\n",
    "            if b < a - p:\n",
    "                cs.append(0)\n",
    "            elif b < a - q:\n",
    "                cs.append((b-a+p)/(p-q))\n",
    "            else:\n",
    "                cs.append(1)\n",
    "    return cs\n",
    "\n",
    "def calc_marginal_discordances(el1, el2, info):\n",
    "    ds = []\n",
    "    for i, (a, b) in enumerate(zip(el1, el2)):\n",
    "        t, _, p, v = info[i].values()\n",
    "        if t == 'g':\n",
    "            if b < a + p:\n",
    "                ds.append(0)\n",
    "            elif b < a + v:\n",
    "                ds.append((b-a-p)/(v-p))\n",
    "            else:\n",
    "                ds.append(1)\n",
    "        else: # criterion type cost\n",
    "            if b < a - v:\n",
    "                ds.append(1)\n",
    "            elif b < a - p:\n",
    "                ds.append((a-p-b)/(v-p))\n",
    "            else:\n",
    "                ds.append(0)\n",
    "    return ds\n",
    "\n",
    "def comprehensive_concordance(marginal_conc, weights):\n",
    "    return np.dot(np.array(weights), np.array(marginal_conc)) / np.sum(weights)\n",
    "\n",
    "def outranking_credibilities_sigma(conc_C: float, dis_D):\n",
    "    return conc_C * np.prod([(1-dis)/(1-conc_C) for dis in dis_D if dis > conc_C])\n",
    "\n",
    "def create_credibility_mat(df, weights, info):\n",
    "    arr = np.array(df)\n",
    "    credibility_mat = np.zeros((arr.shape[0],arr.shape[0]))\n",
    "    for i in range(arr.shape[0]):\n",
    "        for j in range(arr.shape[0]):\n",
    "            c = calc_marginal_concordances(arr[i], arr[j], info)\n",
    "            D = calc_marginal_discordances(arr[i], arr[j], info)\n",
    "            C = comprehensive_concordance(c, weights)\n",
    "            credibility_mat[i,j] = outranking_credibilities_sigma(C, D)\n",
    "\n",
    "    return credibility_mat"
   ]
  },
  {
   "cell_type": "code",
   "execution_count": 13,
   "metadata": {},
   "outputs": [
    {
     "data": {
      "text/plain": [
       "array([[1. , 0. , 0. ],\n",
       "       [1. , 1. , 0.7],\n",
       "       [1. , 0.3, 1. ]])"
      ]
     },
     "execution_count": 13,
     "metadata": {},
     "output_type": "execute_result"
    }
   ],
   "source": [
    "df = pd.read_csv(\"przyklad_wyk.csv\")\n",
    "weights = [2, 3]\n",
    "info = [\n",
    "    {'type': 'g', 'iff': 10, 'pref':50, 'veto':100},\n",
    "    {'type': 'c', 'iff': 0, 'pref':10, 'veto':20} \n",
    "]\n",
    "credibility_mat = create_credibility_mat(df, weights, info)\n",
    "credibility_mat\n"
   ]
  },
  {
   "cell_type": "code",
   "execution_count": 14,
   "metadata": {},
   "outputs": [
    {
     "data": {
      "text/plain": [
       "array([[1.        , 0.6       , 0.3       , 0.7       , 0.55      ],\n",
       "       [0.        , 1.        , 0.2037037 , 0.        , 0.        ],\n",
       "       [0.58333333, 0.6       , 1.        , 0.85      , 0.        ],\n",
       "       [0.3       , 0.        , 0.6       , 1.        , 0.58333333],\n",
       "       [0.6       , 0.        , 0.6       , 0.7       , 1.        ]])"
      ]
     },
     "execution_count": 14,
     "metadata": {},
     "output_type": "execute_result"
    }
   ],
   "source": [
    "df = pd.read_csv(\"przyklad_lab.csv\")\n",
    "weights = [3, 3, 4]\n",
    "info = [\n",
    "    {'type': 'g', 'iff': 4, 'pref':12, 'veto':28},\n",
    "    {'type': 'g', 'iff': 1, 'pref':2, 'veto':8},\n",
    "    {'type': 'c', 'iff': 100, 'pref':200, 'veto':600} \n",
    "]\n",
    "credibility_mat = create_credibility_mat(df, weights, info)\n",
    "credibility_mat"
   ]
  },
  {
   "cell_type": "code",
   "execution_count": 15,
   "metadata": {},
   "outputs": [],
   "source": [
    "def get_rank(element, rank):\n",
    "    for i, item in enumerate(rank):\n",
    "        if isinstance(item, list):\n",
    "            if element in item:\n",
    "                return i\n",
    "        elif element == item:\n",
    "            return i\n",
    "\n",
    "def is_above(a, b, rank1, rank2):\n",
    "    a_rank1 = get_rank(a,rank1)\n",
    "    b_rank1 = get_rank(b,rank1)\n",
    "\n",
    "    a_rank2 = get_rank(a,rank2)\n",
    "    b_rank2 = get_rank(b,rank2)\n",
    "\n",
    "    if a_rank1 >= b_rank1 and a_rank2 >= b_rank2:\n",
    "        return True\n",
    "    \n",
    "\n",
    "def make_outranking_list(asc_rank, des_rank, elements: list):\n",
    "    result = {}\n",
    "\n",
    "    # Iteracja po elementach w rankings\n",
    "    for element in elements:\n",
    "        result[element] = []\n",
    "        for item in elements:\n",
    "            if is_above(element,item, asc_rank, des_rank):\n",
    "                result[element].append(item)\n",
    "\n",
    "    # Wyświetlanie wyników\n",
    "    # for element, elements_above in result.items():\n",
    "    #     print(f\"Element {element} jest nad: {elements_above}\")\n",
    "\n",
    "    print(\"pair = {\", end=\"\")\n",
    "    for element, elements_above in result.items():\n",
    "        for above in elements_above:\n",
    "                # print(\"{\"+f\"{elements.index(element)+1},{elements.index(above)+1}\"+\"}, \",end=\"\")\n",
    "                print(\"{\"+f\"\\\"{element}\\\",\\\"{above}\\\"\"+\"}, \",end=\"\")\n",
    "\n",
    "    print(\"}\")\n",
    "\n",
    "def syg(value, alfa = -0.15, beta = 0.3):\n",
    "    return alfa*value + beta\n",
    "\n",
    "def destilate(S, lamb = None, names = None, is_descending = True, alfa = -0.15, beta = 0.3):\n",
    "    if S.shape[0] == 0:\n",
    "        return []\n",
    "\n",
    "    S_ = np.copy(S)\n",
    "    np.fill_diagonal(S_, 0)\n",
    "\n",
    "    if lamb is None:\n",
    "        lamb = np.max(S_)\n",
    "    \n",
    "    if lamb == 0:\n",
    "        if len(names) == 1:\n",
    "            return list(names)\n",
    "        return [list(names)]\n",
    "    \n",
    "    if names is None:\n",
    "        names = np.array([i for i in range(S.shape[0])])\n",
    "    S_[S_ >= lamb - syg(lamb,alfa,beta)] = 0\n",
    "    lamb_min = max(np.max(S_), 0)\n",
    "    \n",
    "    survivors = np.copy(S)\n",
    "    np.fill_diagonal(survivors, 0)\n",
    "    survivors[survivors <= lamb_min] = 0\n",
    "\n",
    "\n",
    "    for a in range(survivors.shape[0]):\n",
    "        for b in range(survivors.shape[1]):\n",
    "            # print(S[a][b], S[b][a], syg(S[a][b]))\n",
    "            if S[a][b] <= S[b][a] + syg(S[a][b]):\n",
    "                survivors[a][b] = 0\n",
    "    s = np.sum(survivors>0,axis=1)\n",
    "    w = np.sum(survivors>0,axis=0)\n",
    "    q = s - w\n",
    "    if is_descending:\n",
    "        win_score = np.max(q)\n",
    "    else:\n",
    "        win_score = np.min(q)\n",
    "    mask = q == win_score\n",
    "    if np.sum(mask) > 1: # internal destilation\n",
    "        choice = destilate(S[mask][:,mask],lamb_min,names[mask],is_descending, alfa, beta)\n",
    "    else:\n",
    "        choice = [names[mask][0]]\n",
    "    ret = destilate(S[~mask][:,~mask], None, names[~mask],is_descending, alfa, beta)\n",
    "\n",
    "    return  ret + choice\n",
    "\n",
    "def descending_distillation(S,names):\n",
    "    return destilate(S,None, np.array(names), is_descending= True)\n",
    "\n",
    "def ascending_distillation(S,names):\n",
    "    return destilate(S,None, np.array(names), is_descending= False)[::-1]"
   ]
  },
  {
   "cell_type": "code",
   "execution_count": 17,
   "metadata": {},
   "outputs": [
    {
     "name": "stdout",
     "output_type": "stream",
     "text": [
      "['A', 'B', 'I', 'G', 'F']\n",
      "[['B', 'A', 'F'], 'I', 'G']\n"
     ]
    }
   ],
   "source": [
    "\n",
    "asc_rank = ascending_distillation(credibility_mat,[\"I\", \"B\", \"G\", \"A\", \"F\"])\n",
    "des_rank = descending_distillation(credibility_mat,[\"I\", \"B\", \"G\", \"A\", \"F\"])\n",
    "\n",
    "print(asc_rank)\n",
    "print(des_rank)"
   ]
  },
  {
   "cell_type": "code",
   "execution_count": 34,
   "metadata": {},
   "outputs": [
    {
     "name": "stdout",
     "output_type": "stream",
     "text": [
      "['Huawei Nova 9', ['Realme GT Master Edition ', 'Xiaomi 11 Lite Ne'], 'Samsung Galaxy S21', 'Vivo V21', 'Sony Xperia 10 III', 'Xiaomi Redmi 10', ['Oppo A16', 'Motorola G50'], 'Xiaomi POCO F3', 'Sony Xperia 1 III', ['IPhone 11 Pro', 'DOOGEE S59', 'Xiaomi Poco X3 Pro']]\n",
      "[['Sony Xperia 1 III', 'IPhone 11 Pro'], 'Samsung Galaxy S21', 'DOOGEE S59', 'Oppo A16', 'Huawei Nova 9', ['Vivo V21', 'Realme GT Master Edition ', 'Xiaomi 11 Lite Ne'], 'Sony Xperia 10 III', ['Motorola G50', 'Xiaomi Redmi 10'], 'Xiaomi POCO F3', 'Xiaomi Poco X3 Pro']\n"
     ]
    }
   ],
   "source": [
    "df = pd.read_csv(\"ranking_telefony.csv\")\n",
    "names = df.loc[:,'nazwa']\n",
    "df = df.drop(['nazwa'], axis=1)\n",
    "\n",
    "weights = [3, 1, 2, 2, 3]\n",
    "info = [\n",
    "    {'type': 'c', 'iff': 300, 'pref':800, 'veto':1500},\n",
    "    {'type': 'g', 'iff': 0.2, 'pref':0.5, 'veto':1},\n",
    "    {'type': 'g', 'iff': 250, 'pref':500, 'veto':1000},\n",
    "    {'type': 'g', 'iff': 32, 'pref':128, 'veto':150},\n",
    "    {'type': 'g', 'iff': 2, 'pref':4, 'veto':6} \n",
    "]\n",
    "\n",
    "credibility_mat = create_credibility_mat(df, weights, info)\n",
    "# print(credibility_mat)\n",
    "\n",
    "asc_rank = ascending_distillation(credibility_mat,names)\n",
    "des_rank = descending_distillation(credibility_mat,names)\n",
    "# ranks = make_outranking_list(asc_rank,des_rank, names)\n",
    "\n",
    "print(asc_rank)\n",
    "print(des_rank)\n",
    "# print(list(names))"
   ]
  },
  {
   "cell_type": "code",
   "execution_count": null,
   "metadata": {},
   "outputs": [],
   "source": []
  }
 ],
 "metadata": {
  "kernelspec": {
   "display_name": "my_env",
   "language": "python",
   "name": "python3"
  },
  "language_info": {
   "codemirror_mode": {
    "name": "ipython",
    "version": 3
   },
   "file_extension": ".py",
   "mimetype": "text/x-python",
   "name": "python",
   "nbconvert_exporter": "python",
   "pygments_lexer": "ipython3",
   "version": "3.9.13"
  },
  "orig_nbformat": 4
 },
 "nbformat": 4,
 "nbformat_minor": 2
}
